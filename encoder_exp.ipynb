{
 "cells": [
  {
   "cell_type": "code",
   "execution_count": null,
   "metadata": {},
   "outputs": [],
   "source": [
    "# LSTM and CNN for sequence classification in the IMDB dataset\n",
    "import numpy\n",
    "import numpy as np\n",
    "from keras.models import Sequential\n",
    "from keras.layers import Dense\n",
    "from keras.layers import LSTM\n",
    "from keras.layers.convolutional import Conv1D\n",
    "from keras.layers.convolutional import MaxPooling1D\n",
    "from keras.layers.embeddings import Embedding\n",
    "from keras.preprocessing import sequence\n",
    "from keras.preprocessing.text import Tokenizer\n",
    "\n",
    "# fix random seed for reproducibility\n",
    "numpy.random.seed(7)\n",
    "# load the dataset but only keep the top n words, zero the rest\n",
    "\n",
    "docs = ['postings about blah blah','nice post']\n",
    "labels = [0,0]\n",
    "\n",
    "t = Tokenizer()\n",
    "t.fit_on_texts(doc)\n",
    "vocab_size = len(t.word_index)+1\n",
    "\n",
    "encoded_docs  = t.texts_to_sequences(docs)\n",
    "# truncate and pad input sequences\n",
    "max_comment_length = 100\n",
    "X_train = sequence.pad_sequences(X_train, maxlen=max_comment_length)\n",
    "X_test = sequence.pad_sequences(X_test, maxlen=max_comment_length)\n",
    "\n",
    "with open('../glove_data/glove.6B/glove.6B.100d.txt') as f:\n",
    "for line in f:\n",
    "    values = line.split()\n",
    "    word = values[0]\n",
    "    coefs = asarray(values[1:], dtype='float32')\n",
    "    embeddings_index[word] = coefs\n",
    "print('Loaded %s word vectors.' % len(embeddings_index))\n",
    "embedding_matrix = np.zeros((vocab_size, 100))\n",
    "for word, i in t.word_index.items():\n",
    "    embedding_vector = embeddings_index.get(word)\n",
    "    if embedding_vector is not None:\n",
    "        embedding_matrix[i] = embedding_vector\n",
    "\n",
    "# create the model\n",
    "embedding_vecor_length = 100\n",
    "model = Sequential()\n",
    "model.add(Embedding(vocab_size, embedding_vecor_length, input_length=max_review_length))\n",
    "model.add(Conv1D(filters=32, kernel_size=3, padding='same', activation='relu'))\n",
    "model.add(MaxPooling1D(pool_size=2))\n",
    "model.add(LSTM(200))\n",
    "model.add(Dense(1, activation='sigmoid'))\n",
    "model.compile(loss='categorical_crossentropy', optimizer='adam', metrics=['accuracy'])\n",
    "print(model.summary())\n",
    "model.fit(X_train, y_train, epochs=3, batch_size=64)\n",
    "# Final evaluation of the model\n",
    "scores = model.evaluate(X_test, y_test, verbose=0)\n",
    "print(\"Accuracy: %.2f%%\" % (scores[1]*100))"
   ]
  },
  {
   "cell_type": "code",
   "execution_count": 4,
   "metadata": {},
   "outputs": [
    {
     "name": "stdout",
     "output_type": "stream",
     "text": [
      "The autoreload extension is already loaded. To reload it, use:\n",
      "  %reload_ext autoreload\n"
     ]
    }
   ],
   "source": [
    "%load_ext autoreload\n",
    "%autoreload 2"
   ]
  },
  {
   "cell_type": "code",
   "execution_count": 44,
   "metadata": {},
   "outputs": [],
   "source": [
    "from wordExtract import WordExtract as ext"
   ]
  },
  {
   "cell_type": "code",
   "execution_count": 51,
   "metadata": {},
   "outputs": [
    {
     "name": "stdout",
     "output_type": "stream",
     "text": [
      "humor_funny.csv\n"
     ]
    },
    {
     "name": "stderr",
     "output_type": "stream",
     "text": [
      "/Users/kaku/UCI/2019winter/NLP/CS272-NLP-Project/wordExtract.py:17: FutureWarning: Method .as_matrix will be removed in a future version. Use .values instead.\n",
      "  self.rawData = df.as_matrix()\n"
     ]
    },
    {
     "name": "stdout",
     "output_type": "stream",
     "text": [
      "gaming_dota2.csv\n",
      "gaming_leagueoflegends.csv\n",
      "humor_jokes.csv\n",
      "news_offbeat.csv\n",
      "humor_imgoingtohellforthis.csv\n",
      "learning_askhistorians.csv\n",
      "learning_space.csv\n",
      "entertainment_music.csv\n",
      "lifestyle_drunk.csv\n",
      "news_truereddit.csv\n",
      "gaming_pokemon.csv\n",
      "news_conspiracy.csv\n",
      "lifestyle_guns.csv\n",
      "gaming_tf2.csv\n",
      "lifestyle_frugal.csv\n",
      "learning_science.csv\n",
      "entertainment_starwars.csv\n",
      "gaming_skyrim.csv\n",
      "entertainment_movies.csv\n",
      "learning_youshouldknow.csv\n",
      "lifestyle_progresspics.csv\n",
      "gaming_minecraft.csv\n",
      "entertainment_anime.csv\n",
      "television_mylittlepony.csv\n",
      "entertainment_comicbooks.csv\n",
      "news_politics.csv\n",
      "gaming_gaming.csv\n",
      "news_libertarian.csv\n",
      "television_doctorwho.csv\n",
      "news_news.csv\n",
      "lifestyle_food.csv\n",
      "entertainment_harrypotter.csv\n",
      "television_himym.csv\n",
      "humor_adviceanimals.csv\n",
      "television_startrek.csv\n",
      "humor_facepalm.csv\n",
      "lifestyle_sex.csv\n",
      "television_breakingbad.csv\n",
      "gaming_starcraft.csv\n",
      "television_community.csv\n",
      "humor_circlejerk.csv\n",
      "learning_askscience.csv\n",
      "television_gameofthrones.csv\n",
      "lifestyle_lifehacks.csv\n",
      "news_conservative.csv\n",
      "lifestyle_motorcycles.csv\n",
      "learning_explainlikeimfive.csv\n",
      "news_worldnews.csv\n",
      "television_thewalkingdead.csv\n",
      "learning_todayilearned.csv\n"
     ]
    }
   ],
   "source": [
    "import os\n",
    "keep =None\n",
    "root_dir = \"/Users/kaku/UCI/2019winter/NLP/reddit-dataset-master\"\n",
    "os.chdir(root_dir)\n",
    "comments, metaLabels, subLabels = [],[],[]\n",
    "sub = set()\n",
    "meta = set()\n",
    "for _, _, fileList in os.walk(root_dir):\n",
    "    for f in fileList:\n",
    "        if f.endswith(\".csv\"):\n",
    "            print(f)\n",
    "            meta.add(f.split('.')[0].split('_')[0])\n",
    "            sub.add(f.split('.')[0].split('_')[1])\n",
    "            obj = ext(root_dir+'/'+f)\n",
    "            obj.extract()\n",
    "            comments.extend(obj.text[:keep])\n",
    "            metaLabels.extend(obj.meta[:keep])\n",
    "            subLabels.extend(obj.sub[:keep])\n",
    "    #ext.extract('')"
   ]
  },
  {
   "cell_type": "code",
   "execution_count": 52,
   "metadata": {},
   "outputs": [
    {
     "data": {
      "text/plain": [
       "2481402"
      ]
     },
     "execution_count": 52,
     "metadata": {},
     "output_type": "execute_result"
    }
   ],
   "source": [
    "len(comments)"
   ]
  },
  {
   "cell_type": "code",
   "execution_count": 53,
   "metadata": {},
   "outputs": [
    {
     "data": {
      "text/plain": [
       "({'entertainment',\n",
       "  'gaming',\n",
       "  'humor',\n",
       "  'learning',\n",
       "  'lifestyle',\n",
       "  'news',\n",
       "  'television'},\n",
       " 51)"
      ]
     },
     "execution_count": 53,
     "metadata": {},
     "output_type": "execute_result"
    }
   ],
   "source": [
    "meta,len(sub)"
   ]
  },
  {
   "cell_type": "code",
   "execution_count": 54,
   "metadata": {},
   "outputs": [
    {
     "name": "stdout",
     "output_type": "stream",
     "text": [
      "{'humor': 1, 'lifestyle': 2, 'television': 3, 'news': 4, 'gaming': 5, 'entertainment': 6, 'learning': 7} {'movies': 1, 'offbeat': 2, 'progresspics': 3, 'anime': 4, 'explainlikeimfive': 5, 'adviceanimals': 6, 'todayilearned': 7, 'worldnews': 8, 'facepalm': 9, 'himym': 10, 'dota2': 11, 'community': 12, 'music': 13, 'starcraft': 14, 'politics': 15, 'starwars': 16, 'space': 17, 'conspiracy': 18, 'science': 19, 'libertarian': 20, 'tf2': 21, 'jokes': 22, 'startrek': 23, 'gameofthrones': 24, 'conservative': 25, 'gaming': 26, 'pokemon': 27, 'mylittlepony': 28, 'circlejerk': 29, 'drunk': 30, 'motorcycles': 31, 'leagueoflegends': 32, 'skyrim': 33, 'news': 34, 'frugal': 35, 'guns': 36, 'comicbooks': 37, 'askscience': 38, 'breakingbad': 39, 'imgoingtohellforthis': 40, 'harrypotter': 41, 'truereddit': 42, 'food': 43, 'sex': 44, 'funny': 45, 'youshouldknow': 46, 'minecraft': 47, 'thewalkingdead': 48, 'doctorwho': 49, 'askhistorians': 50, 'lifehacks': 51}\n"
     ]
    }
   ],
   "source": [
    "meta2id = {}\n",
    "sub2id = {}\n",
    "for i,c in enumerate(meta,1):\n",
    "    meta2id[c] = i\n",
    "for i,c in enumerate(sub,1):\n",
    "    sub2id[c] = i\n",
    "print(meta2id, sub2id)"
   ]
  },
  {
   "cell_type": "code",
   "execution_count": 55,
   "metadata": {},
   "outputs": [],
   "source": [
    "corpus = []\n",
    "for i,c in enumerate(comments):\n",
    "    corpus.append([c, meta2id[metaLabels[i]], sub2id[subLabels[i]]])"
   ]
  },
  {
   "cell_type": "code",
   "execution_count": 56,
   "metadata": {},
   "outputs": [
    {
     "data": {
      "text/plain": [
       "[['lettuce not make to many jokes ', 1, 45],\n",
       " ['christopher columbus also sold children as sex slaves  http  wwwhuffingtonpostcomerickasumcolumbusdayabadidea_b_742708html',\n",
       "  1,\n",
       "  45],\n",
       " ['rthathappened', 1, 45],\n",
       " ['gt  734 nothing good on  huh ', 1, 45],\n",
       " ['   you   gon na   eat   the   rest   a    that  ', 1, 45],\n",
       " ['well i m glad op knows the appropriate response while watching a comedy top notch post ',\n",
       "  1,\n",
       "  45],\n",
       " ['what do you mean recently ', 1, 45],\n",
       " ['it s nothing more but a publicity stunt and it s fucking working beautifully ',\n",
       "  1,\n",
       "  45],\n",
       " ['like  the last decade or so ', 1, 45],\n",
       " ['console depth of field', 1, 45],\n",
       " ['where the kisses are hers and hers and his ', 1, 45],\n",
       " ['good looking couple', 1, 45],\n",
       " ['he s so lucky to have found someone with a peepants fetish ', 1, 45],\n",
       " [' oh honey do nt be silly trust me  no one will notice ', 1, 45],\n",
       " ['god damn it  all this does is make me want to be young again when i thought love was real  marriages lasted  that i could trust someone with everything  and i would live happily ever after with a beautiful woman  its all bullshit and lies    there is nothing real in that photo except maybe the dudes boner  fuckingmotherfuckinglife ',\n",
       "  1,\n",
       "  45],\n",
       " ['that does nt belong on a public forum op is the dick ', 1, 45],\n",
       " ['she was surprisingly tolerant of that trunk up her ass ', 1, 45],\n",
       " [' elephants are very clever   http  iimgurcomxohf9mggif ', 1, 45],\n",
       " ['his sense of smell was going crazy ', 1, 45],\n",
       " ['recently  when i heard about all the stuff he s been doing the past couple weeks  it did nt catch me off guard in the slightest ',\n",
       "  1,\n",
       "  45],\n",
       " ['recently  ', 1, 45],\n",
       " ['does anyone actually care about what celebrities do ', 1, 45],\n",
       " ['fourier series', 1, 45],\n",
       " ['this is the funniest joke i ve heard in my life ', 1, 45],\n",
       " ['this made me hungry i do nt know how i feel about that ', 1, 45],\n",
       " ['i prefer my rats crisp', 1, 45],\n",
       " ['well  british people were probably already  amused by his name   http  wwwurbandictionarycomdefinephp  term  prat  ',\n",
       "  1,\n",
       "  45],\n",
       " ['worth it ', 1, 45],\n",
       " ['honestly  i hope he does end up in deep financial trouble we ll see how long kim can hang on and keep pretending she loves him ',\n",
       "  1,\n",
       "  45],\n",
       " ['i d try  solvethis  and  solvethisfor  as the password  see if it works ',\n",
       "  1,\n",
       "  45],\n",
       " [' he grew up   http  idailymailcoukipix20090513article118120804e88fed000005dc472_468x548jpg ',\n",
       "  1,\n",
       "  45],\n",
       " ['the answer is  42 ', 1, 45],\n",
       " ['this is exactly something my granddad would say', 1, 45],\n",
       " ['mathwaycom always has my back ', 1, 45],\n",
       " ['you got ta be a frikken xpert to get the wifi code', 1, 45],\n",
       " ['just go with it gurl', 1, 45],\n",
       " ['raw blow ', 1, 45],\n",
       " ['4   the answer is 4  source  i enjoy making things up ', 1, 45],\n",
       " ['seeing as this is a math problem the answer may be just numbers  meaning the wifi is wep encryption  time to bust out backtrack or my iphone and crack the password i was nt always good at math ',\n",
       "  1,\n",
       "  45],\n",
       " ['just became cavemanno reason why ', 1, 45],\n",
       " ['can always wait for that guy  who ll solve it and brag about it loud enough to spread the password should nt take long  they re never to far ',\n",
       "  1,\n",
       "  45],\n",
       " ['https  wwwyoutubecomwatch  v  pma3xbc8im', 1, 45],\n",
       " ['engineering student here  this is a fourier series that s the basic formula that s the formula  and there are no values i m not going to solve it  but it is rather ambiguous as far as passwords go  ie ab is the same as ba  but only one would be the password  it s a slightly more simple application of the math from  good will hunting   edit  someone said something about there being more to it than this i google  fourier series wifi password  and the first image is this  https  iimgurcomdupruqgjpg the password is  chatime1 ',\n",
       "  1,\n",
       "  45],\n",
       " ['if a shoe store never runs out of a certain pair of shoes  dose that mean that nobody wears them  or everybody wears them',\n",
       "  1,\n",
       "  45],\n",
       " ['feet must not be shoes for this store to have any hope of success i imagine it is hard to sell a product that we are born with ',\n",
       "  1,\n",
       "  45],\n",
       " ['wow  i just want to commend you on your title that is all ', 1, 45],\n",
       " ['also applies to room', 1, 45],\n",
       " ['i think there s a b in front of that a ', 1, 45],\n",
       " ['ican notstoplaughing  hahahahahahahahahahahahahahahahahahahahahahahahahahahaha',\n",
       "  1,\n",
       "  45],\n",
       " ['feet are shoes for your bones ', 1, 45],\n",
       " ['looks like something from gavin', 1, 45],\n",
       " ['gavino free problems', 1, 45],\n",
       " ['royal oak ', 1, 45],\n",
       " ['that s so deep your mom said  owch  ', 1, 45],\n",
       " ['no ', 1, 45],\n",
       " ['he s fussy because he wants kim to use the rectal thermometer and she refuses ',\n",
       "  1,\n",
       "  45],\n",
       " ['are they though  ', 1, 45],\n",
       " ['i know this south street shoe store all to well  http  iimgurcomk5nq7nyjpg',\n",
       "  1,\n",
       "  45],\n",
       " ['to be fair  the ones with the jaden smith was receiving media attention for his ridiculous tweets ',\n",
       "  1,\n",
       "  45],\n",
       " ['he must have opened a repost store too', 1, 45],\n",
       " ['someone should open up a  what are those     shoe store', 1, 45],\n",
       " [' dammit  woman be cool  ', 1, 45],\n",
       " ['eye see what you did there', 1, 45],\n",
       " ['brilliant ski school  where can i sign my kid up ', 1, 45],\n",
       " ['why do nt they just beat the shit and then kill the bird  they seem well equipped ',\n",
       "  1,\n",
       "  45],\n",
       " ['now that is a great way to learn how to ski ', 1, 45],\n",
       " [' gobble gobble   https  smediacacheak0pinimgcom564x2c95022c95021c0d137b111889729e17405ee6jpg ',\n",
       "  1,\n",
       "  45],\n",
       " ['his family will ensure he never lives that down ', 1, 45],\n",
       " ['and that kid did nt ski again for ten years he s still afraid of birds',\n",
       "  1,\n",
       "  45],\n",
       " ['hey kidswan na explore nature  you go first ', 1, 45],\n",
       " ['a sequel to thankskilling ', 1, 45],\n",
       " ['dark meat eh  i ll show you black and blue meat ', 1, 45],\n",
       " ['this immediately reminded me of  zak bagans   http  wwwghosthuntersfanscomwpcontentuploadszakbagansjpg  from ghost adventures ',\n",
       "  1,\n",
       "  45],\n",
       " ['i find a deep vneck shirt on a fit guy to be really attractive what s the harm  so long as they re not gross ',\n",
       "  1,\n",
       "  45],\n",
       " ['what year is this', 1, 45],\n",
       " ['this was created by someone apparently jealous of other guys with welldefined chests nothing about a male with pec definition necessarily makes them a douchebag  and there s nothing wrong with showing it off ',\n",
       "  1,\n",
       "  45],\n",
       " ['it s called a reverse tactleneck  lana ', 1, 45],\n",
       " ['if you re trying to run from a pissed off bird and you pizza when should have french fried  you re gon na have a bad time ',\n",
       "  1,\n",
       "  45],\n",
       " ['how dare you trip in front of yo majesty ', 1, 45],\n",
       " ['on skis but ill run ', 1, 45],\n",
       " ['leave this herehttp  imgurcomnfghpad', 1, 45],\n",
       " ['damn i would have been far more violent with that bird if it was attacking my kid  i do nt understand why it was nt immediately kicked with full force ',\n",
       "  1,\n",
       "  45],\n",
       " ['i do nt think that s a turkey ', 1, 45],\n",
       " ['i got fired from a job for killing a goose that was attacking a little kid kid was down on the ground and every one was just trying to shoo the goose away i ran up and grabbed the things neck and just broke it the kid needed stitches and was all fucked up but youd have thought i killed the family dog on christmas morning got called into the office and fired on the spot did nt like that job anyway ',\n",
       "  1,\n",
       "  45],\n",
       " ['it went for the weakest link ', 1, 45],\n",
       " ['wack it in the head  step on its wings and pull its feet boom  dinner',\n",
       "  1,\n",
       "  45],\n",
       " ['fookin what mate', 1, 45],\n",
       " ['we norwegins call them tiur but hellpigeons are a good translation they be devilspawn for a diffrent dimension ',\n",
       "  1,\n",
       "  45],\n",
       " ['oh boy  i can see the instagram posts already   when you re raised by a white family but show up in the hood ',\n",
       "  1,\n",
       "  45],\n",
       " ['how else am i supposed to show off my mancleavage ', 1, 45],\n",
       " ['looooolllllllllllll', 1, 45],\n",
       " [' relevant   https  vimeocom68421532 ', 1, 45],\n",
       " [' deleted ', 1, 45],\n",
       " ['unless you are in the jersey shore than it makes you the new jersey equivalent to a knight in the uk',\n",
       "  1,\n",
       "  45],\n",
       " ['hey cool let s make fun of other people for how they choose to dress ',\n",
       "  1,\n",
       "  45],\n",
       " ['nobody really dresses like that anymore this is nt 2008  well  i guess douches do ',\n",
       "  1,\n",
       "  45],\n",
       " ['yeah  send in the kid first ', 1, 45],\n",
       " ['i think  dneck  is actually better ', 1, 45],\n",
       " ['yea  lets judge people for the depth of their vnecks  let me guess  you wear bandshirtsvideogameshirts and other shit flittig clothes  i myself wear shit and never leave the house ',\n",
       "  1,\n",
       "  45],\n",
       " ['i wear a vneck  fuck all yall ', 1, 45]]"
      ]
     },
     "execution_count": 56,
     "metadata": {},
     "output_type": "execute_result"
    }
   ],
   "source": [
    "corpus[:100]"
   ]
  },
  {
   "cell_type": "code",
   "execution_count": 58,
   "metadata": {},
   "outputs": [],
   "source": [
    "import pickle as pkl\n",
    "with open('data','wb') as f:\n",
    "    pkl.dump(corpus,f)"
   ]
  },
  {
   "cell_type": "code",
   "execution_count": 60,
   "metadata": {},
   "outputs": [
    {
     "data": {
      "text/plain": [
       "'/Users/kaku/UCI/2019winter/NLP/reddit-dataset-master'"
      ]
     },
     "execution_count": 60,
     "metadata": {},
     "output_type": "execute_result"
    }
   ],
   "source": [
    "os.getcwd()"
   ]
  },
  {
   "cell_type": "code",
   "execution_count": null,
   "metadata": {},
   "outputs": [],
   "source": []
  }
 ],
 "metadata": {
  "kernelspec": {
   "display_name": "Python 3",
   "language": "python",
   "name": "python3"
  },
  "language_info": {
   "codemirror_mode": {
    "name": "ipython",
    "version": 3
   },
   "file_extension": ".py",
   "mimetype": "text/x-python",
   "name": "python",
   "nbconvert_exporter": "python",
   "pygments_lexer": "ipython3",
   "version": "3.7.0"
  }
 },
 "nbformat": 4,
 "nbformat_minor": 2
}
