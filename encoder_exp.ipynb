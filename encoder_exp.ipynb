{
 "cells": [
  {
   "cell_type": "code",
   "execution_count": null,
   "metadata": {},
   "outputs": [],
   "source": [
    "# LSTM and CNN for sequence classification in the IMDB dataset\n",
    "import numpy\n",
    "import numpy as np\n",
    "from keras.models import Sequential\n",
    "from keras.layers import Dense\n",
    "from keras.layers import LSTM\n",
    "from keras.layers.convolutional import Conv1D\n",
    "from keras.layers.convolutional import MaxPooling1D\n",
    "from keras.layers.embeddings import Embedding\n",
    "from keras.preprocessing import sequence\n",
    "from keras.preprocessing.text import Tokenizer\n",
    "\n",
    "# fix random seed for reproducibility\n",
    "numpy.random.seed(7)\n",
    "# load the dataset but only keep the top n words, zero the rest\n",
    "\n",
    "docs = ['postings about blah blah','nice post']\n",
    "labels = [0,0]\n",
    "\n",
    "t = Tokenizer()\n",
    "t.fit_on_texts(doc)\n",
    "vocab_size = len(t.word_index)+1\n",
    "\n",
    "encoded_docs  = t.texts_to_sequences(docs)\n",
    "# truncate and pad input sequences\n",
    "max_comment_length = 100\n",
    "X_train = sequence.pad_sequences(X_train, maxlen=max_comment_length)\n",
    "X_test = sequence.pad_sequences(X_test, maxlen=max_comment_length)\n",
    "\n",
    "with open('../glove_data/glove.6B/glove.6B.100d.txt') as f:\n",
    "for line in f:\n",
    "    values = line.split()\n",
    "    word = values[0]\n",
    "    coefs = asarray(values[1:], dtype='float32')\n",
    "    embeddings_index[word] = coefs\n",
    "print('Loaded %s word vectors.' % len(embeddings_index))\n",
    "embedding_matrix = np.zeros((vocab_size, 100))\n",
    "for word, i in t.word_index.items():\n",
    "    embedding_vector = embeddings_index.get(word)\n",
    "    if embedding_vector is not None:\n",
    "        embedding_matrix[i] = embedding_vector\n",
    "\n",
    "# create the model\n",
    "embedding_vecor_length = 100\n",
    "model = Sequential()\n",
    "model.add(Embedding(vocab_size, embedding_vecor_length, input_length=max_review_length))\n",
    "model.add(Conv1D(filters=32, kernel_size=3, padding='same', activation='relu'))\n",
    "model.add(MaxPooling1D(pool_size=2))\n",
    "model.add(LSTM(200))\n",
    "model.add(Dense(1, activation='sigmoid'))\n",
    "model.compile(loss='categorical_crossentropy', optimizer='adam', metrics=['accuracy'])\n",
    "print(model.summary())\n",
    "model.fit(X_train, y_train, epochs=3, batch_size=64)\n",
    "# Final evaluation of the model\n",
    "scores = model.evaluate(X_test, y_test, verbose=0)\n",
    "print(\"Accuracy: %.2f%%\" % (scores[1]*100))"
   ]
  },
  {
   "cell_type": "code",
   "execution_count": 4,
   "metadata": {},
   "outputs": [
    {
     "name": "stdout",
     "output_type": "stream",
     "text": [
      "The autoreload extension is already loaded. To reload it, use:\n",
      "  %reload_ext autoreload\n"
     ]
    }
   ],
   "source": [
    "%load_ext autoreload\n",
    "%autoreload 2"
   ]
  },
  {
   "cell_type": "code",
   "execution_count": 44,
   "metadata": {},
   "outputs": [],
   "source": [
    "from wordExtract import WordExtract as ext"
   ]
  },
  {
   "cell_type": "code",
   "execution_count": 45,
   "metadata": {},
   "outputs": [
    {
     "name": "stdout",
     "output_type": "stream",
     "text": [
      "humor_funny.csv\n"
     ]
    },
    {
     "name": "stderr",
     "output_type": "stream",
     "text": [
      "/Users/kaku/UCI/2019winter/NLP/CS272-NLP-Project/wordExtract.py:17: FutureWarning: Method .as_matrix will be removed in a future version. Use .values instead.\n",
      "  self.rawData = df.as_matrix()\n"
     ]
    },
    {
     "name": "stdout",
     "output_type": "stream",
     "text": [
      "gaming_dota2.csv\n",
      "gaming_leagueoflegends.csv\n",
      "humor_jokes.csv\n",
      "news_offbeat.csv\n",
      "humor_imgoingtohellforthis.csv\n",
      "learning_askhistorians.csv\n",
      "learning_space.csv\n",
      "entertainment_music.csv\n",
      "lifestyle_drunk.csv\n",
      "news_truereddit.csv\n",
      "gaming_pokemon.csv\n",
      "news_conspiracy.csv\n",
      "lifestyle_guns.csv\n",
      "gaming_tf2.csv\n",
      "lifestyle_frugal.csv\n",
      "learning_science.csv\n",
      "entertainment_starwars.csv\n",
      "gaming_skyrim.csv\n",
      "entertainment_movies.csv\n",
      "learning_youshouldknow.csv\n",
      "lifestyle_progresspics.csv\n",
      "gaming_minecraft.csv\n",
      "entertainment_anime.csv\n",
      "television_mylittlepony.csv\n",
      "entertainment_comicbooks.csv\n",
      "news_politics.csv\n",
      "gaming_gaming.csv\n",
      "news_libertarian.csv\n",
      "television_doctorwho.csv\n",
      "news_news.csv\n",
      "lifestyle_food.csv\n",
      "entertainment_harrypotter.csv\n",
      "television_himym.csv\n",
      "humor_adviceanimals.csv\n",
      "television_startrek.csv\n",
      "humor_facepalm.csv\n",
      "lifestyle_sex.csv\n",
      "television_breakingbad.csv\n",
      "gaming_starcraft.csv\n",
      "television_community.csv\n",
      "humor_circlejerk.csv\n",
      "learning_askscience.csv\n",
      "television_gameofthrones.csv\n",
      "lifestyle_lifehacks.csv\n",
      "news_conservative.csv\n",
      "lifestyle_motorcycles.csv\n",
      "learning_explainlikeimfive.csv\n",
      "news_worldnews.csv\n",
      "television_thewalkingdead.csv\n",
      "learning_todayilearned.csv\n"
     ]
    }
   ],
   "source": [
    "import os\n",
    "keep =None\n",
    "root_dir = \"/Users/kaku/UCI/2019winter/NLP/reddit-dataset-master\"\n",
    "os.chdir(root_dir)\n",
    "comments, metaLabels, subLabels = [],[],[]\n",
    "sub = set()\n",
    "meta = set()\n",
    "for _, _, fileList in os.walk(root_dir):\n",
    "    for f in fileList:\n",
    "        if f.endswith(\".csv\"):\n",
    "            print(f)\n",
    "            meta.add(f.split('.')[0].split('_')[0])\n",
    "            sub.add(f.split('.')[0].split('_')[1])\n",
    "            obj = ext(root_dir+'/'+f)\n",
    "            obj.extract()\n",
    "            comments.extend(obj.text[:keep])\n",
    "            metaLabels.extend(obj.meta[:keep])\n",
    "            subLabels.extend(obj.sub[:keep])\n",
    "    #ext.extract('')"
   ]
  },
  {
   "cell_type": "code",
   "execution_count": 46,
   "metadata": {},
   "outputs": [
    {
     "data": {
      "text/plain": [
       "2481402"
      ]
     },
     "execution_count": 46,
     "metadata": {},
     "output_type": "execute_result"
    }
   ],
   "source": [
    "len(comments)"
   ]
  },
  {
   "cell_type": "code",
   "execution_count": 47,
   "metadata": {},
   "outputs": [
    {
     "data": {
      "text/plain": [
       "({'entertainment',\n",
       "  'gaming',\n",
       "  'humor',\n",
       "  'learning',\n",
       "  'lifestyle',\n",
       "  'news',\n",
       "  'television'},\n",
       " 51)"
      ]
     },
     "execution_count": 47,
     "metadata": {},
     "output_type": "execute_result"
    }
   ],
   "source": [
    "meta,len(sub)"
   ]
  },
  {
   "cell_type": "code",
   "execution_count": 48,
   "metadata": {},
   "outputs": [
    {
     "name": "stdout",
     "output_type": "stream",
     "text": [
      "{'humor': 1, 'lifestyle': 2, 'television': 3, 'news': 4, 'gaming': 5, 'entertainment': 6, 'learning': 7} {'movies': 1, 'offbeat': 2, 'progresspics': 3, 'anime': 4, 'explainlikeimfive': 5, 'adviceanimals': 6, 'todayilearned': 7, 'worldnews': 8, 'facepalm': 9, 'himym': 10, 'dota2': 11, 'community': 12, 'music': 13, 'starcraft': 14, 'politics': 15, 'starwars': 16, 'space': 17, 'conspiracy': 18, 'science': 19, 'libertarian': 20, 'tf2': 21, 'jokes': 22, 'startrek': 23, 'gameofthrones': 24, 'conservative': 25, 'gaming': 26, 'pokemon': 27, 'mylittlepony': 28, 'circlejerk': 29, 'drunk': 30, 'motorcycles': 31, 'leagueoflegends': 32, 'skyrim': 33, 'news': 34, 'frugal': 35, 'guns': 36, 'comicbooks': 37, 'askscience': 38, 'breakingbad': 39, 'imgoingtohellforthis': 40, 'harrypotter': 41, 'truereddit': 42, 'food': 43, 'sex': 44, 'funny': 45, 'youshouldknow': 46, 'minecraft': 47, 'thewalkingdead': 48, 'doctorwho': 49, 'askhistorians': 50, 'lifehacks': 51}\n"
     ]
    }
   ],
   "source": [
    "meta2id = {}\n",
    "sub2id = {}\n",
    "for i,c in enumerate(meta,1):\n",
    "    meta2id[c] = i\n",
    "for i,c in enumerate(sub,1):\n",
    "    sub2id[c] = i\n",
    "print(meta2id, sub2id)"
   ]
  },
  {
   "cell_type": "code",
   "execution_count": 49,
   "metadata": {},
   "outputs": [
    {
     "ename": "KeyError",
     "evalue": "'funny'",
     "output_type": "error",
     "traceback": [
      "\u001b[0;31m---------------------------------------------------------------------------\u001b[0m",
      "\u001b[0;31mKeyError\u001b[0m                                  Traceback (most recent call last)",
      "\u001b[0;32m<ipython-input-49-0e8768942779>\u001b[0m in \u001b[0;36m<module>\u001b[0;34m\u001b[0m\n\u001b[1;32m      1\u001b[0m \u001b[0mcorpus\u001b[0m \u001b[0;34m=\u001b[0m \u001b[0;34m[\u001b[0m\u001b[0;34m]\u001b[0m\u001b[0;34m\u001b[0m\u001b[0m\n\u001b[1;32m      2\u001b[0m \u001b[0;32mfor\u001b[0m \u001b[0mi\u001b[0m\u001b[0;34m,\u001b[0m\u001b[0mc\u001b[0m \u001b[0;32min\u001b[0m \u001b[0menumerate\u001b[0m\u001b[0;34m(\u001b[0m\u001b[0mcomments\u001b[0m\u001b[0;34m)\u001b[0m\u001b[0;34m:\u001b[0m\u001b[0;34m\u001b[0m\u001b[0m\n\u001b[0;32m----> 3\u001b[0;31m     \u001b[0mcorpus\u001b[0m\u001b[0;34m.\u001b[0m\u001b[0mappend\u001b[0m\u001b[0;34m(\u001b[0m\u001b[0;34m[\u001b[0m\u001b[0mc\u001b[0m\u001b[0;34m,\u001b[0m \u001b[0mmeta2id\u001b[0m\u001b[0;34m[\u001b[0m\u001b[0mmetaLabels\u001b[0m\u001b[0;34m[\u001b[0m\u001b[0mi\u001b[0m\u001b[0;34m]\u001b[0m\u001b[0;34m]\u001b[0m\u001b[0;34m,\u001b[0m \u001b[0msub2id\u001b[0m\u001b[0;34m[\u001b[0m\u001b[0msubLabels\u001b[0m\u001b[0;34m[\u001b[0m\u001b[0mi\u001b[0m\u001b[0;34m]\u001b[0m\u001b[0;34m]\u001b[0m\u001b[0;34m]\u001b[0m\u001b[0;34m)\u001b[0m\u001b[0;34m\u001b[0m\u001b[0m\n\u001b[0m",
      "\u001b[0;31mKeyError\u001b[0m: 'funny'"
     ]
    }
   ],
   "source": [
    "corpus = []\n",
    "for i,c in enumerate(comments):\n",
    "    corpus.append([c, meta2id[metaLabels[i]], sub2id[subLabels[i]]])"
   ]
  },
  {
   "cell_type": "code",
   "execution_count": 50,
   "metadata": {},
   "outputs": [
    {
     "data": {
      "text/plain": [
       "'funny'"
      ]
     },
     "execution_count": 50,
     "metadata": {},
     "output_type": "execute_result"
    }
   ],
   "source": []
  },
  {
   "cell_type": "code",
   "execution_count": null,
   "metadata": {},
   "outputs": [],
   "source": []
  }
 ],
 "metadata": {
  "kernelspec": {
   "display_name": "Python 3",
   "language": "python",
   "name": "python3"
  },
  "language_info": {
   "codemirror_mode": {
    "name": "ipython",
    "version": 3
   },
   "file_extension": ".py",
   "mimetype": "text/x-python",
   "name": "python",
   "nbconvert_exporter": "python",
   "pygments_lexer": "ipython3",
   "version": "3.7.0"
  }
 },
 "nbformat": 4,
 "nbformat_minor": 2
}
